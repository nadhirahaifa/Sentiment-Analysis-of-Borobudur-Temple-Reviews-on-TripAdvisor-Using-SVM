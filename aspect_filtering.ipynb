{
 "cells": [
  {
   "cell_type": "code",
   "execution_count": 1,
   "metadata": {},
   "outputs": [],
   "source": [
    "import pandas as pd\n",
    "import ast"
   ]
  },
  {
   "cell_type": "code",
   "execution_count": 2,
   "metadata": {},
   "outputs": [],
   "source": [
    "# aspect keywords\n",
    "attraction = ['templ', 'borobudur', 'buddhist', 'stupa', 'monument', 'relief', 'buddha', 'architectur', 'statue', 'carv', 'sculptur']\n",
    "amenities = ['hotel', 'restaurant', 'transport', 'toilet', 'facilit', 'market', 'shop', 'water', 'coffe', 'booth', 'souvenir', 'food', 'chair', 'breakfast', 'room', 'cafe', 'restroom', 'lobbi', 'drink', 'bathroom']\n",
    "accessibility = ['transport', 'road', 'airport', 'driver', 'bus', 'car', 'train', 'vehicl', 'taxi', 'access', 'station', 'rail', 'scooter']\n",
    "image = ['beauti', 'amaz', 'nice', 'magnific', 'wonder', 'view', 'natur', 'stun', 'uniqu', 'sceneri', 'atmospher', 'landscap', 'impress', 'spectacular', 'charm']\n",
    "price = ['price', 'cost', 'fee', 'expens', 'idr', 'cheap', 'dollar', 'ticket', 'free', 'discount', 'money', 'rp', 'usd', 'rupiah', 'sold', 'pay', 'euro', 'prici', 'cheapest']\n",
    "human_resources = ['guid', 'peopl', 'local', 'servic', 'staff', 'tourist', 'visitor', 'seller', 'offic', 'worker', 'driver']"
   ]
  },
  {
   "cell_type": "code",
   "execution_count": 4,
   "metadata": {},
   "outputs": [
    {
     "data": {
      "text/html": [
       "<div>\n",
       "<style scoped>\n",
       "    .dataframe tbody tr th:only-of-type {\n",
       "        vertical-align: middle;\n",
       "    }\n",
       "\n",
       "    .dataframe tbody tr th {\n",
       "        vertical-align: top;\n",
       "    }\n",
       "\n",
       "    .dataframe thead th {\n",
       "        text-align: right;\n",
       "    }\n",
       "</style>\n",
       "<table border=\"1\" class=\"dataframe\">\n",
       "  <thead>\n",
       "    <tr style=\"text-align: right;\">\n",
       "      <th></th>\n",
       "      <th>text</th>\n",
       "      <th>text_stem</th>\n",
       "    </tr>\n",
       "  </thead>\n",
       "  <tbody>\n",
       "    <tr>\n",
       "      <th>0</th>\n",
       "      <td>We came to Borobudur Temple accompanied by our...</td>\n",
       "      <td>['came', 'borobudur', 'templ', 'accompani', 'd...</td>\n",
       "    </tr>\n",
       "    <tr>\n",
       "      <th>1</th>\n",
       "      <td>Good place for Buddhist pilgrimage place. The ...</td>\n",
       "      <td>['good', 'place', 'buddhist', 'pilgrimag', 'pl...</td>\n",
       "    </tr>\n",
       "    <tr>\n",
       "      <th>2</th>\n",
       "      <td>Fantastic experience as it was super well orga...</td>\n",
       "      <td>['fantast', 'experi', 'super', 'well', 'organi...</td>\n",
       "    </tr>\n",
       "    <tr>\n",
       "      <th>3</th>\n",
       "      <td>It is a beautiful temple, in a beautiful setti...</td>\n",
       "      <td>['beauti', 'templ', 'beauti', 'set', 'go', 'ma...</td>\n",
       "    </tr>\n",
       "    <tr>\n",
       "      <th>4</th>\n",
       "      <td>Went Borobudur before pandemic and was surpris...</td>\n",
       "      <td>['went', 'borobudur', 'pandem', 'surpris', 'ch...</td>\n",
       "    </tr>\n",
       "  </tbody>\n",
       "</table>\n",
       "</div>"
      ],
      "text/plain": [
       "                                                text  \\\n",
       "0  We came to Borobudur Temple accompanied by our...   \n",
       "1  Good place for Buddhist pilgrimage place. The ...   \n",
       "2  Fantastic experience as it was super well orga...   \n",
       "3  It is a beautiful temple, in a beautiful setti...   \n",
       "4  Went Borobudur before pandemic and was surpris...   \n",
       "\n",
       "                                           text_stem  \n",
       "0  ['came', 'borobudur', 'templ', 'accompani', 'd...  \n",
       "1  ['good', 'place', 'buddhist', 'pilgrimag', 'pl...  \n",
       "2  ['fantast', 'experi', 'super', 'well', 'organi...  \n",
       "3  ['beauti', 'templ', 'beauti', 'set', 'go', 'ma...  \n",
       "4  ['went', 'borobudur', 'pandem', 'surpris', 'ch...  "
      ]
     },
     "execution_count": 4,
     "metadata": {},
     "output_type": "execute_result"
    }
   ],
   "source": [
    "df = pd.read_csv('cleaned_review.csv')\n",
    "# drop columns\n",
    "df.drop(columns=['text_clean', 'text_cf', 'text_token', 'text_stopword'], inplace=True)\n",
    "df.head()"
   ]
  },
  {
   "cell_type": "code",
   "execution_count": 5,
   "metadata": {},
   "outputs": [],
   "source": [
    "def str_to_list(text):\n",
    "    return ast.literal_eval(text)\n",
    "\n",
    "# Apply the function to convert all rows in 'text_stem' column\n",
    "df['text_stem'] = df['text_stem'].apply(str_to_list)"
   ]
  },
  {
   "cell_type": "code",
   "execution_count": 6,
   "metadata": {},
   "outputs": [
    {
     "data": {
      "text/html": [
       "<div>\n",
       "<style scoped>\n",
       "    .dataframe tbody tr th:only-of-type {\n",
       "        vertical-align: middle;\n",
       "    }\n",
       "\n",
       "    .dataframe tbody tr th {\n",
       "        vertical-align: top;\n",
       "    }\n",
       "\n",
       "    .dataframe thead th {\n",
       "        text-align: right;\n",
       "    }\n",
       "</style>\n",
       "<table border=\"1\" class=\"dataframe\">\n",
       "  <thead>\n",
       "    <tr style=\"text-align: right;\">\n",
       "      <th></th>\n",
       "      <th>text</th>\n",
       "      <th>text_stem</th>\n",
       "      <th>attraction</th>\n",
       "      <th>amenities</th>\n",
       "      <th>accessibility</th>\n",
       "      <th>image</th>\n",
       "      <th>price</th>\n",
       "      <th>human_resources</th>\n",
       "    </tr>\n",
       "  </thead>\n",
       "  <tbody>\n",
       "    <tr>\n",
       "      <th>0</th>\n",
       "      <td>We came to Borobudur Temple accompanied by our...</td>\n",
       "      <td>[came, borobudur, templ, accompani, driver, yo...</td>\n",
       "      <td>0</td>\n",
       "      <td>0</td>\n",
       "      <td>0</td>\n",
       "      <td>0</td>\n",
       "      <td>0</td>\n",
       "      <td>0</td>\n",
       "    </tr>\n",
       "    <tr>\n",
       "      <th>1</th>\n",
       "      <td>Good place for Buddhist pilgrimage place. The ...</td>\n",
       "      <td>[good, place, buddhist, pilgrimag, place, tick...</td>\n",
       "      <td>0</td>\n",
       "      <td>0</td>\n",
       "      <td>0</td>\n",
       "      <td>0</td>\n",
       "      <td>0</td>\n",
       "      <td>0</td>\n",
       "    </tr>\n",
       "    <tr>\n",
       "      <th>2</th>\n",
       "      <td>Fantastic experience as it was super well orga...</td>\n",
       "      <td>[fantast, experi, super, well, organis, organi...</td>\n",
       "      <td>0</td>\n",
       "      <td>0</td>\n",
       "      <td>0</td>\n",
       "      <td>0</td>\n",
       "      <td>0</td>\n",
       "      <td>0</td>\n",
       "    </tr>\n",
       "    <tr>\n",
       "      <th>3</th>\n",
       "      <td>It is a beautiful temple, in a beautiful setti...</td>\n",
       "      <td>[beauti, templ, beauti, set, go, make, sure, p...</td>\n",
       "      <td>0</td>\n",
       "      <td>0</td>\n",
       "      <td>0</td>\n",
       "      <td>0</td>\n",
       "      <td>0</td>\n",
       "      <td>0</td>\n",
       "    </tr>\n",
       "    <tr>\n",
       "      <th>4</th>\n",
       "      <td>Went Borobudur before pandemic and was surpris...</td>\n",
       "      <td>[went, borobudur, pandem, surpris, chang, rule...</td>\n",
       "      <td>0</td>\n",
       "      <td>0</td>\n",
       "      <td>0</td>\n",
       "      <td>0</td>\n",
       "      <td>0</td>\n",
       "      <td>0</td>\n",
       "    </tr>\n",
       "  </tbody>\n",
       "</table>\n",
       "</div>"
      ],
      "text/plain": [
       "                                                text  \\\n",
       "0  We came to Borobudur Temple accompanied by our...   \n",
       "1  Good place for Buddhist pilgrimage place. The ...   \n",
       "2  Fantastic experience as it was super well orga...   \n",
       "3  It is a beautiful temple, in a beautiful setti...   \n",
       "4  Went Borobudur before pandemic and was surpris...   \n",
       "\n",
       "                                           text_stem  attraction  amenities  \\\n",
       "0  [came, borobudur, templ, accompani, driver, yo...           0          0   \n",
       "1  [good, place, buddhist, pilgrimag, place, tick...           0          0   \n",
       "2  [fantast, experi, super, well, organis, organi...           0          0   \n",
       "3  [beauti, templ, beauti, set, go, make, sure, p...           0          0   \n",
       "4  [went, borobudur, pandem, surpris, chang, rule...           0          0   \n",
       "\n",
       "   accessibility  image  price  human_resources  \n",
       "0              0      0      0                0  \n",
       "1              0      0      0                0  \n",
       "2              0      0      0                0  \n",
       "3              0      0      0                0  \n",
       "4              0      0      0                0  "
      ]
     },
     "execution_count": 6,
     "metadata": {},
     "output_type": "execute_result"
    }
   ],
   "source": [
    "# create columns\n",
    "df['attraction'] = 0\n",
    "df['amenities'] = 0\n",
    "df['accessibility'] = 0\n",
    "df['image'] = 0\n",
    "df['price'] = 0\n",
    "df['human_resources'] = 0\n",
    "df.head()"
   ]
  },
  {
   "cell_type": "code",
   "execution_count": 7,
   "metadata": {},
   "outputs": [
    {
     "name": "stderr",
     "output_type": "stream",
     "text": [
      "C:\\Users\\nadhi\\AppData\\Local\\Temp\\ipykernel_27528\\4007511736.py:5: SettingWithCopyWarning: \n",
      "A value is trying to be set on a copy of a slice from a DataFrame\n",
      "\n",
      "See the caveats in the documentation: https://pandas.pydata.org/pandas-docs/stable/user_guide/indexing.html#returning-a-view-versus-a-copy\n",
      "  df['attraction'][i] = 1\n",
      "C:\\Users\\nadhi\\AppData\\Local\\Temp\\ipykernel_27528\\4007511736.py:9: SettingWithCopyWarning: \n",
      "A value is trying to be set on a copy of a slice from a DataFrame\n",
      "\n",
      "See the caveats in the documentation: https://pandas.pydata.org/pandas-docs/stable/user_guide/indexing.html#returning-a-view-versus-a-copy\n",
      "  df['accessibility'][i] = 1\n",
      "C:\\Users\\nadhi\\AppData\\Local\\Temp\\ipykernel_27528\\4007511736.py:15: SettingWithCopyWarning: \n",
      "A value is trying to be set on a copy of a slice from a DataFrame\n",
      "\n",
      "See the caveats in the documentation: https://pandas.pydata.org/pandas-docs/stable/user_guide/indexing.html#returning-a-view-versus-a-copy\n",
      "  df['human_resources'][i] = 1\n",
      "C:\\Users\\nadhi\\AppData\\Local\\Temp\\ipykernel_27528\\4007511736.py:13: SettingWithCopyWarning: \n",
      "A value is trying to be set on a copy of a slice from a DataFrame\n",
      "\n",
      "See the caveats in the documentation: https://pandas.pydata.org/pandas-docs/stable/user_guide/indexing.html#returning-a-view-versus-a-copy\n",
      "  df['price'][i] = 1\n",
      "C:\\Users\\nadhi\\AppData\\Local\\Temp\\ipykernel_27528\\4007511736.py:11: SettingWithCopyWarning: \n",
      "A value is trying to be set on a copy of a slice from a DataFrame\n",
      "\n",
      "See the caveats in the documentation: https://pandas.pydata.org/pandas-docs/stable/user_guide/indexing.html#returning-a-view-versus-a-copy\n",
      "  df['image'][i] = 1\n",
      "C:\\Users\\nadhi\\AppData\\Local\\Temp\\ipykernel_27528\\4007511736.py:7: SettingWithCopyWarning: \n",
      "A value is trying to be set on a copy of a slice from a DataFrame\n",
      "\n",
      "See the caveats in the documentation: https://pandas.pydata.org/pandas-docs/stable/user_guide/indexing.html#returning-a-view-versus-a-copy\n",
      "  df['amenities'][i] = 1\n"
     ]
    }
   ],
   "source": [
    "# check if each row contains the aspect keywords in text_stem\n",
    "for i in range(len(df)):\n",
    "    for word in df['text_stem'][i]:\n",
    "        if word in attraction:\n",
    "            df['attraction'][i] = 1\n",
    "        if word in amenities:\n",
    "            df['amenities'][i] = 1\n",
    "        if word in accessibility:\n",
    "            df['accessibility'][i] = 1\n",
    "        if word in image:\n",
    "            df['image'][i] = 1\n",
    "        if word in price:\n",
    "            df['price'][i] = 1\n",
    "        if word in human_resources:\n",
    "            df['human_resources'][i] = 1"
   ]
  },
  {
   "cell_type": "code",
   "execution_count": 8,
   "metadata": {},
   "outputs": [
    {
     "data": {
      "text/plain": [
       "1    3517\n",
       "0     629\n",
       "Name: attraction, dtype: int64"
      ]
     },
     "execution_count": 8,
     "metadata": {},
     "output_type": "execute_result"
    }
   ],
   "source": [
    "df['attraction'].value_counts()"
   ]
  },
  {
   "cell_type": "code",
   "execution_count": 9,
   "metadata": {},
   "outputs": [
    {
     "data": {
      "text/plain": [
       "0    2790\n",
       "1    1356\n",
       "Name: amenities, dtype: int64"
      ]
     },
     "execution_count": 9,
     "metadata": {},
     "output_type": "execute_result"
    }
   ],
   "source": [
    "df['amenities'].value_counts()"
   ]
  },
  {
   "cell_type": "code",
   "execution_count": 10,
   "metadata": {},
   "outputs": [
    {
     "data": {
      "text/plain": [
       "0    3431\n",
       "1     715\n",
       "Name: accessibility, dtype: int64"
      ]
     },
     "execution_count": 10,
     "metadata": {},
     "output_type": "execute_result"
    }
   ],
   "source": [
    "df['accessibility'].value_counts()"
   ]
  },
  {
   "cell_type": "code",
   "execution_count": 11,
   "metadata": {},
   "outputs": [
    {
     "data": {
      "text/plain": [
       "1    2947\n",
       "0    1199\n",
       "Name: image, dtype: int64"
      ]
     },
     "execution_count": 11,
     "metadata": {},
     "output_type": "execute_result"
    }
   ],
   "source": [
    "df['image'].value_counts()"
   ]
  },
  {
   "cell_type": "code",
   "execution_count": 12,
   "metadata": {},
   "outputs": [
    {
     "data": {
      "text/plain": [
       "0    2510\n",
       "1    1636\n",
       "Name: price, dtype: int64"
      ]
     },
     "execution_count": 12,
     "metadata": {},
     "output_type": "execute_result"
    }
   ],
   "source": [
    "df['price'].value_counts()"
   ]
  },
  {
   "cell_type": "code",
   "execution_count": 13,
   "metadata": {},
   "outputs": [
    {
     "data": {
      "text/plain": [
       "1    2431\n",
       "0    1715\n",
       "Name: human_resources, dtype: int64"
      ]
     },
     "execution_count": 13,
     "metadata": {},
     "output_type": "execute_result"
    }
   ],
   "source": [
    "df['human_resources'].value_counts()"
   ]
  },
  {
   "cell_type": "code",
   "execution_count": 14,
   "metadata": {},
   "outputs": [],
   "source": [
    "# save to csv\n",
    "df.to_csv('dataset/aspect_labelled.csv', index=False)"
   ]
  },
  {
   "cell_type": "code",
   "execution_count": 117,
   "metadata": {},
   "outputs": [
    {
     "data": {
      "text/html": [
       "<div>\n",
       "<style scoped>\n",
       "    .dataframe tbody tr th:only-of-type {\n",
       "        vertical-align: middle;\n",
       "    }\n",
       "\n",
       "    .dataframe tbody tr th {\n",
       "        vertical-align: top;\n",
       "    }\n",
       "\n",
       "    .dataframe thead th {\n",
       "        text-align: right;\n",
       "    }\n",
       "</style>\n",
       "<table border=\"1\" class=\"dataframe\">\n",
       "  <thead>\n",
       "    <tr style=\"text-align: right;\">\n",
       "      <th></th>\n",
       "      <th>text</th>\n",
       "      <th>attraction</th>\n",
       "      <th>amenities</th>\n",
       "      <th>accessibility</th>\n",
       "      <th>image</th>\n",
       "      <th>price</th>\n",
       "      <th>human_resources</th>\n",
       "    </tr>\n",
       "  </thead>\n",
       "  <tbody>\n",
       "    <tr>\n",
       "      <th>0</th>\n",
       "      <td>We came to Borobudur Temple accompanied by our...</td>\n",
       "      <td>1</td>\n",
       "      <td>0</td>\n",
       "      <td>1</td>\n",
       "      <td>0</td>\n",
       "      <td>1</td>\n",
       "      <td>1</td>\n",
       "    </tr>\n",
       "    <tr>\n",
       "      <th>1</th>\n",
       "      <td>Good place for Buddhist pilgrimage place. The ...</td>\n",
       "      <td>1</td>\n",
       "      <td>0</td>\n",
       "      <td>1</td>\n",
       "      <td>0</td>\n",
       "      <td>1</td>\n",
       "      <td>0</td>\n",
       "    </tr>\n",
       "    <tr>\n",
       "      <th>2</th>\n",
       "      <td>Fantastic experience as it was super well orga...</td>\n",
       "      <td>0</td>\n",
       "      <td>0</td>\n",
       "      <td>1</td>\n",
       "      <td>0</td>\n",
       "      <td>0</td>\n",
       "      <td>1</td>\n",
       "    </tr>\n",
       "    <tr>\n",
       "      <th>3</th>\n",
       "      <td>It is a beautiful temple, in a beautiful setti...</td>\n",
       "      <td>1</td>\n",
       "      <td>1</td>\n",
       "      <td>0</td>\n",
       "      <td>1</td>\n",
       "      <td>1</td>\n",
       "      <td>0</td>\n",
       "    </tr>\n",
       "    <tr>\n",
       "      <th>4</th>\n",
       "      <td>Went Borobudur before pandemic and was surpris...</td>\n",
       "      <td>1</td>\n",
       "      <td>1</td>\n",
       "      <td>1</td>\n",
       "      <td>1</td>\n",
       "      <td>1</td>\n",
       "      <td>1</td>\n",
       "    </tr>\n",
       "    <tr>\n",
       "      <th>5</th>\n",
       "      <td>My wife and I recent visited Borobudur. We had...</td>\n",
       "      <td>1</td>\n",
       "      <td>1</td>\n",
       "      <td>1</td>\n",
       "      <td>0</td>\n",
       "      <td>1</td>\n",
       "      <td>1</td>\n",
       "    </tr>\n",
       "    <tr>\n",
       "      <th>6</th>\n",
       "      <td>The opening hours of Borobodur have recently c...</td>\n",
       "      <td>1</td>\n",
       "      <td>1</td>\n",
       "      <td>1</td>\n",
       "      <td>1</td>\n",
       "      <td>1</td>\n",
       "      <td>1</td>\n",
       "    </tr>\n",
       "    <tr>\n",
       "      <th>7</th>\n",
       "      <td>Whilst the temple is amazing, the entry price ...</td>\n",
       "      <td>1</td>\n",
       "      <td>1</td>\n",
       "      <td>1</td>\n",
       "      <td>1</td>\n",
       "      <td>1</td>\n",
       "      <td>0</td>\n",
       "    </tr>\n",
       "    <tr>\n",
       "      <th>8</th>\n",
       "      <td>Borobudur, located in Magelang, Central Java, ...</td>\n",
       "      <td>1</td>\n",
       "      <td>0</td>\n",
       "      <td>1</td>\n",
       "      <td>1</td>\n",
       "      <td>0</td>\n",
       "      <td>1</td>\n",
       "    </tr>\n",
       "    <tr>\n",
       "      <th>9</th>\n",
       "      <td>Ancient Borobudur Temple is massive; it's the ...</td>\n",
       "      <td>1</td>\n",
       "      <td>0</td>\n",
       "      <td>0</td>\n",
       "      <td>0</td>\n",
       "      <td>0</td>\n",
       "      <td>0</td>\n",
       "    </tr>\n",
       "  </tbody>\n",
       "</table>\n",
       "</div>"
      ],
      "text/plain": [
       "                                                text  attraction  amenities  \\\n",
       "0  We came to Borobudur Temple accompanied by our...           1          0   \n",
       "1  Good place for Buddhist pilgrimage place. The ...           1          0   \n",
       "2  Fantastic experience as it was super well orga...           0          0   \n",
       "3  It is a beautiful temple, in a beautiful setti...           1          1   \n",
       "4  Went Borobudur before pandemic and was surpris...           1          1   \n",
       "5  My wife and I recent visited Borobudur. We had...           1          1   \n",
       "6  The opening hours of Borobodur have recently c...           1          1   \n",
       "7  Whilst the temple is amazing, the entry price ...           1          1   \n",
       "8  Borobudur, located in Magelang, Central Java, ...           1          0   \n",
       "9  Ancient Borobudur Temple is massive; it's the ...           1          0   \n",
       "\n",
       "   accessibility  image  price  human_resources  \n",
       "0              1      0      1                1  \n",
       "1              1      0      1                0  \n",
       "2              1      0      0                1  \n",
       "3              0      1      1                0  \n",
       "4              1      1      1                1  \n",
       "5              1      0      1                1  \n",
       "6              1      1      1                1  \n",
       "7              1      1      1                0  \n",
       "8              1      1      0                1  \n",
       "9              0      0      0                0  "
      ]
     },
     "execution_count": 117,
     "metadata": {},
     "output_type": "execute_result"
    }
   ],
   "source": [
    "# show df['text'] and the aspects\n",
    "df[['text', 'attraction', 'amenities', 'accessibility', 'image', 'price', 'human_resources']].head(10)"
   ]
  }
 ],
 "metadata": {
  "kernelspec": {
   "display_name": "Python 3",
   "language": "python",
   "name": "python3"
  },
  "language_info": {
   "codemirror_mode": {
    "name": "ipython",
    "version": 3
   },
   "file_extension": ".py",
   "mimetype": "text/x-python",
   "name": "python",
   "nbconvert_exporter": "python",
   "pygments_lexer": "ipython3",
   "version": "3.10.7"
  }
 },
 "nbformat": 4,
 "nbformat_minor": 2
}
