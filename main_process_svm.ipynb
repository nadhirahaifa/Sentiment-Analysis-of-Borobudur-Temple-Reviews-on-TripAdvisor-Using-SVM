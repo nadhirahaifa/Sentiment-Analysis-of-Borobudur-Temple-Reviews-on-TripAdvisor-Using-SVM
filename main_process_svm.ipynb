{
 "cells": [
  {
   "cell_type": "markdown",
   "metadata": {},
   "source": [
    "### Text Preprocessing\n",
    "\n",
    "1. Text Cleaning\n",
    "2. Case Folding\n",
    "3. Tokenizing\n",
    "4. Stopword removal\n",
    "5. Stemming"
   ]
  },
  {
   "cell_type": "code",
   "execution_count": 3,
   "metadata": {},
   "outputs": [],
   "source": [
    "import pandas as pd\n",
    "import regex as re\n",
    "from nltk.corpus import stopwords\n",
    "from nltk.stem.porter import PorterStemmer\n",
    "from spellchecker import SpellChecker"
   ]
  },
  {
   "cell_type": "code",
   "execution_count": 4,
   "metadata": {},
   "outputs": [
    {
     "name": "stdout",
     "output_type": "stream",
     "text": [
      "<class 'pandas.core.frame.DataFrame'>\n",
      "Int64Index: 4146 entries, 0 to 4163\n",
      "Data columns (total 10 columns):\n",
      " #   Column                Non-Null Count  Dtype \n",
      "---  ------                --------------  ----- \n",
      " 0   reviewer_link         4139 non-null   object\n",
      " 1   reviewer_name         4139 non-null   object\n",
      " 2   reviewer_location     4130 non-null   object\n",
      " 3   reviews_contribution  3499 non-null   object\n",
      " 4   rating                4146 non-null   object\n",
      " 5   review_link           4146 non-null   object\n",
      " 6   review_title          4146 non-null   object\n",
      " 7   visit_date            4018 non-null   object\n",
      " 8   review                4146 non-null   object\n",
      " 9   review_date           4146 non-null   object\n",
      "dtypes: object(10)\n",
      "memory usage: 356.3+ KB\n"
     ]
    }
   ],
   "source": [
    "df = pd.read_csv('dataset/2505_tripadvisor.csv')\n",
    "# drop duplicates\n",
    "df = df.drop_duplicates(subset=['review'])\n",
    "df.info()"
   ]
  },
  {
   "cell_type": "code",
   "execution_count": 5,
   "metadata": {},
   "outputs": [
    {
     "data": {
      "text/html": [
       "<div>\n",
       "<style scoped>\n",
       "    .dataframe tbody tr th:only-of-type {\n",
       "        vertical-align: middle;\n",
       "    }\n",
       "\n",
       "    .dataframe tbody tr th {\n",
       "        vertical-align: top;\n",
       "    }\n",
       "\n",
       "    .dataframe thead th {\n",
       "        text-align: right;\n",
       "    }\n",
       "</style>\n",
       "<table border=\"1\" class=\"dataframe\">\n",
       "  <thead>\n",
       "    <tr style=\"text-align: right;\">\n",
       "      <th></th>\n",
       "      <th>text</th>\n",
       "    </tr>\n",
       "  </thead>\n",
       "  <tbody>\n",
       "    <tr>\n",
       "      <th>0</th>\n",
       "      <td>We came to Borobudur Temple accompanied by our...</td>\n",
       "    </tr>\n",
       "    <tr>\n",
       "      <th>1</th>\n",
       "      <td>Good place for Buddhist pilgrimage place. The ...</td>\n",
       "    </tr>\n",
       "    <tr>\n",
       "      <th>2</th>\n",
       "      <td>Fantastic experience as it was super well orga...</td>\n",
       "    </tr>\n",
       "  </tbody>\n",
       "</table>\n",
       "</div>"
      ],
      "text/plain": [
       "                                                text\n",
       "0  We came to Borobudur Temple accompanied by our...\n",
       "1  Good place for Buddhist pilgrimage place. The ...\n",
       "2  Fantastic experience as it was super well orga..."
      ]
     },
     "execution_count": 5,
     "metadata": {},
     "output_type": "execute_result"
    }
   ],
   "source": [
    "# get the column review only\n",
    "df_temp = pd.DataFrame(columns=['text'])\n",
    "df_temp['text'] = df['review']\n",
    "\n",
    "df_temp.head(3)"
   ]
  },
  {
   "cell_type": "code",
   "execution_count": 6,
   "metadata": {},
   "outputs": [
    {
     "data": {
      "text/plain": [
       "\"We came to Borobudur Temple accompanied by our driver from Yogyakarta. Came early in the morning after visiting Setumbu Hill. Before coming here, make sure you have a ticket to go up to the temple grounds to get the best experience, because if you only buy a temple ground ticket, you can only tour the temple grounds without guidance from a local guide. It's best to plan your trip carefully because Borobudur Temple is a destination that you must visit when you come to Indonesia.\""
      ]
     },
     "execution_count": 6,
     "metadata": {},
     "output_type": "execute_result"
    }
   ],
   "source": [
    "df_temp['text'][0]"
   ]
  },
  {
   "cell_type": "code",
   "execution_count": 7,
   "metadata": {},
   "outputs": [],
   "source": [
    "# cleaning text\n",
    "def clean_text(text):\n",
    "    text = re.sub(r\"’\", \"'\", text)\n",
    "    text = re.sub(r\"‘\", \"'\", text)\n",
    "    text = re.sub(r\"`\", \"'\", text)\n",
    "    text = re.sub(r\"\\\\\", \"\", text)\n",
    "\n",
    "    # remove white space\n",
    "    text = re.sub(r'\\xa0', '', text)\n",
    "    text = re.sub(r'\\t', '', text)\n",
    "    text = re.sub(r'\\r', '', text)\n",
    "    text = re.sub(r'\\n', '', text)\n",
    "\n",
    "    text = re.sub(r\"\\'d\", \"do\", text)\n",
    "    # change if text contains \"n't\" to \"not\"\n",
    "    text = re.sub(r\"n't\", \" not\", text)\n",
    "    # Remove punctuation\n",
    "    text = re.sub(r'[^\\w\\s]', ' ', text)\n",
    "    # Removing numbers\n",
    "    text = re.sub(r'\\d+', '', text)\n",
    "    # Remove whitespace\n",
    "    text = re.sub(r'\\s+', ' ', text)\n",
    "    # # Remove repeated words\n",
    "    text = re.sub(r'\\b(\\w+)( \\1\\b)+', r'\\1', text)\n",
    "    # remove extra space at the end of the text\n",
    "    text = re.sub(r'\\s+$', '', text)\n",
    "\n",
    "    return text"
   ]
  },
  {
   "cell_type": "code",
   "execution_count": 8,
   "metadata": {},
   "outputs": [
    {
     "data": {
      "text/html": [
       "<div>\n",
       "<style scoped>\n",
       "    .dataframe tbody tr th:only-of-type {\n",
       "        vertical-align: middle;\n",
       "    }\n",
       "\n",
       "    .dataframe tbody tr th {\n",
       "        vertical-align: top;\n",
       "    }\n",
       "\n",
       "    .dataframe thead th {\n",
       "        text-align: right;\n",
       "    }\n",
       "</style>\n",
       "<table border=\"1\" class=\"dataframe\">\n",
       "  <thead>\n",
       "    <tr style=\"text-align: right;\">\n",
       "      <th></th>\n",
       "      <th>text</th>\n",
       "      <th>text_clean</th>\n",
       "    </tr>\n",
       "  </thead>\n",
       "  <tbody>\n",
       "    <tr>\n",
       "      <th>0</th>\n",
       "      <td>We came to Borobudur Temple accompanied by our...</td>\n",
       "      <td>We came to Borobudur Temple accompanied by our...</td>\n",
       "    </tr>\n",
       "    <tr>\n",
       "      <th>1</th>\n",
       "      <td>Good place for Buddhist pilgrimage place. The ...</td>\n",
       "      <td>Good place for Buddhist pilgrimage place The t...</td>\n",
       "    </tr>\n",
       "    <tr>\n",
       "      <th>2</th>\n",
       "      <td>Fantastic experience as it was super well orga...</td>\n",
       "      <td>Fantastic experience as it was super well orga...</td>\n",
       "    </tr>\n",
       "  </tbody>\n",
       "</table>\n",
       "</div>"
      ],
      "text/plain": [
       "                                                text  \\\n",
       "0  We came to Borobudur Temple accompanied by our...   \n",
       "1  Good place for Buddhist pilgrimage place. The ...   \n",
       "2  Fantastic experience as it was super well orga...   \n",
       "\n",
       "                                          text_clean  \n",
       "0  We came to Borobudur Temple accompanied by our...  \n",
       "1  Good place for Buddhist pilgrimage place The t...  \n",
       "2  Fantastic experience as it was super well orga...  "
      ]
     },
     "execution_count": 8,
     "metadata": {},
     "output_type": "execute_result"
    }
   ],
   "source": [
    "df_temp['text_clean'] = df_temp['text'].apply(clean_text)\n",
    "df_temp.head(3)"
   ]
  },
  {
   "cell_type": "code",
   "execution_count": 9,
   "metadata": {},
   "outputs": [],
   "source": [
    "# case folding\n",
    "def casefolding(text):\n",
    "    return text.lower()"
   ]
  },
  {
   "cell_type": "code",
   "execution_count": 10,
   "metadata": {},
   "outputs": [
    {
     "data": {
      "text/html": [
       "<div>\n",
       "<style scoped>\n",
       "    .dataframe tbody tr th:only-of-type {\n",
       "        vertical-align: middle;\n",
       "    }\n",
       "\n",
       "    .dataframe tbody tr th {\n",
       "        vertical-align: top;\n",
       "    }\n",
       "\n",
       "    .dataframe thead th {\n",
       "        text-align: right;\n",
       "    }\n",
       "</style>\n",
       "<table border=\"1\" class=\"dataframe\">\n",
       "  <thead>\n",
       "    <tr style=\"text-align: right;\">\n",
       "      <th></th>\n",
       "      <th>text</th>\n",
       "      <th>text_clean</th>\n",
       "      <th>text_cf</th>\n",
       "    </tr>\n",
       "  </thead>\n",
       "  <tbody>\n",
       "    <tr>\n",
       "      <th>0</th>\n",
       "      <td>We came to Borobudur Temple accompanied by our...</td>\n",
       "      <td>We came to Borobudur Temple accompanied by our...</td>\n",
       "      <td>we came to borobudur temple accompanied by our...</td>\n",
       "    </tr>\n",
       "    <tr>\n",
       "      <th>1</th>\n",
       "      <td>Good place for Buddhist pilgrimage place. The ...</td>\n",
       "      <td>Good place for Buddhist pilgrimage place The t...</td>\n",
       "      <td>good place for buddhist pilgrimage place the t...</td>\n",
       "    </tr>\n",
       "    <tr>\n",
       "      <th>2</th>\n",
       "      <td>Fantastic experience as it was super well orga...</td>\n",
       "      <td>Fantastic experience as it was super well orga...</td>\n",
       "      <td>fantastic experience as it was super well orga...</td>\n",
       "    </tr>\n",
       "  </tbody>\n",
       "</table>\n",
       "</div>"
      ],
      "text/plain": [
       "                                                text  \\\n",
       "0  We came to Borobudur Temple accompanied by our...   \n",
       "1  Good place for Buddhist pilgrimage place. The ...   \n",
       "2  Fantastic experience as it was super well orga...   \n",
       "\n",
       "                                          text_clean  \\\n",
       "0  We came to Borobudur Temple accompanied by our...   \n",
       "1  Good place for Buddhist pilgrimage place The t...   \n",
       "2  Fantastic experience as it was super well orga...   \n",
       "\n",
       "                                             text_cf  \n",
       "0  we came to borobudur temple accompanied by our...  \n",
       "1  good place for buddhist pilgrimage place the t...  \n",
       "2  fantastic experience as it was super well orga...  "
      ]
     },
     "execution_count": 10,
     "metadata": {},
     "output_type": "execute_result"
    }
   ],
   "source": [
    "df_temp['text_cf'] = df_temp['text_clean'].apply(casefolding)\n",
    "df_temp.head(3)"
   ]
  },
  {
   "cell_type": "code",
   "execution_count": 11,
   "metadata": {},
   "outputs": [],
   "source": [
    "# tokenization\n",
    "def tokenization(text):\n",
    "    return text.split()"
   ]
  },
  {
   "cell_type": "code",
   "execution_count": 12,
   "metadata": {},
   "outputs": [
    {
     "data": {
      "text/html": [
       "<div>\n",
       "<style scoped>\n",
       "    .dataframe tbody tr th:only-of-type {\n",
       "        vertical-align: middle;\n",
       "    }\n",
       "\n",
       "    .dataframe tbody tr th {\n",
       "        vertical-align: top;\n",
       "    }\n",
       "\n",
       "    .dataframe thead th {\n",
       "        text-align: right;\n",
       "    }\n",
       "</style>\n",
       "<table border=\"1\" class=\"dataframe\">\n",
       "  <thead>\n",
       "    <tr style=\"text-align: right;\">\n",
       "      <th></th>\n",
       "      <th>text</th>\n",
       "      <th>text_clean</th>\n",
       "      <th>text_cf</th>\n",
       "      <th>text_token</th>\n",
       "    </tr>\n",
       "  </thead>\n",
       "  <tbody>\n",
       "    <tr>\n",
       "      <th>0</th>\n",
       "      <td>We came to Borobudur Temple accompanied by our...</td>\n",
       "      <td>We came to Borobudur Temple accompanied by our...</td>\n",
       "      <td>we came to borobudur temple accompanied by our...</td>\n",
       "      <td>[we, came, to, borobudur, temple, accompanied,...</td>\n",
       "    </tr>\n",
       "    <tr>\n",
       "      <th>1</th>\n",
       "      <td>Good place for Buddhist pilgrimage place. The ...</td>\n",
       "      <td>Good place for Buddhist pilgrimage place The t...</td>\n",
       "      <td>good place for buddhist pilgrimage place the t...</td>\n",
       "      <td>[good, place, for, buddhist, pilgrimage, place...</td>\n",
       "    </tr>\n",
       "    <tr>\n",
       "      <th>2</th>\n",
       "      <td>Fantastic experience as it was super well orga...</td>\n",
       "      <td>Fantastic experience as it was super well orga...</td>\n",
       "      <td>fantastic experience as it was super well orga...</td>\n",
       "      <td>[fantastic, experience, as, it, was, super, we...</td>\n",
       "    </tr>\n",
       "  </tbody>\n",
       "</table>\n",
       "</div>"
      ],
      "text/plain": [
       "                                                text  \\\n",
       "0  We came to Borobudur Temple accompanied by our...   \n",
       "1  Good place for Buddhist pilgrimage place. The ...   \n",
       "2  Fantastic experience as it was super well orga...   \n",
       "\n",
       "                                          text_clean  \\\n",
       "0  We came to Borobudur Temple accompanied by our...   \n",
       "1  Good place for Buddhist pilgrimage place The t...   \n",
       "2  Fantastic experience as it was super well orga...   \n",
       "\n",
       "                                             text_cf  \\\n",
       "0  we came to borobudur temple accompanied by our...   \n",
       "1  good place for buddhist pilgrimage place the t...   \n",
       "2  fantastic experience as it was super well orga...   \n",
       "\n",
       "                                          text_token  \n",
       "0  [we, came, to, borobudur, temple, accompanied,...  \n",
       "1  [good, place, for, buddhist, pilgrimage, place...  \n",
       "2  [fantastic, experience, as, it, was, super, we...  "
      ]
     },
     "execution_count": 12,
     "metadata": {},
     "output_type": "execute_result"
    }
   ],
   "source": [
    "df_temp['text_token'] = df_temp['text_cf'].apply(tokenization)\n",
    "df_temp.head(3)"
   ]
  },
  {
   "cell_type": "code",
   "execution_count": 13,
   "metadata": {},
   "outputs": [],
   "source": [
    "# remove stopword\n",
    "\n",
    "# using nltk english stopwords\n",
    "stopwords = stopwords.words('english')\n",
    "\n",
    "\n",
    "def remove_stopword(text):\n",
    "    return [word for word in text if word not in stopwords]"
   ]
  },
  {
   "cell_type": "code",
   "execution_count": 14,
   "metadata": {},
   "outputs": [
    {
     "data": {
      "text/html": [
       "<div>\n",
       "<style scoped>\n",
       "    .dataframe tbody tr th:only-of-type {\n",
       "        vertical-align: middle;\n",
       "    }\n",
       "\n",
       "    .dataframe tbody tr th {\n",
       "        vertical-align: top;\n",
       "    }\n",
       "\n",
       "    .dataframe thead th {\n",
       "        text-align: right;\n",
       "    }\n",
       "</style>\n",
       "<table border=\"1\" class=\"dataframe\">\n",
       "  <thead>\n",
       "    <tr style=\"text-align: right;\">\n",
       "      <th></th>\n",
       "      <th>text</th>\n",
       "      <th>text_clean</th>\n",
       "      <th>text_cf</th>\n",
       "      <th>text_token</th>\n",
       "      <th>text_stopword</th>\n",
       "    </tr>\n",
       "  </thead>\n",
       "  <tbody>\n",
       "    <tr>\n",
       "      <th>0</th>\n",
       "      <td>We came to Borobudur Temple accompanied by our...</td>\n",
       "      <td>We came to Borobudur Temple accompanied by our...</td>\n",
       "      <td>we came to borobudur temple accompanied by our...</td>\n",
       "      <td>[we, came, to, borobudur, temple, accompanied,...</td>\n",
       "      <td>[came, borobudur, temple, accompanied, driver,...</td>\n",
       "    </tr>\n",
       "    <tr>\n",
       "      <th>1</th>\n",
       "      <td>Good place for Buddhist pilgrimage place. The ...</td>\n",
       "      <td>Good place for Buddhist pilgrimage place The t...</td>\n",
       "      <td>good place for buddhist pilgrimage place the t...</td>\n",
       "      <td>[good, place, for, buddhist, pilgrimage, place...</td>\n",
       "      <td>[good, place, buddhist, pilgrimage, place, tic...</td>\n",
       "    </tr>\n",
       "    <tr>\n",
       "      <th>2</th>\n",
       "      <td>Fantastic experience as it was super well orga...</td>\n",
       "      <td>Fantastic experience as it was super well orga...</td>\n",
       "      <td>fantastic experience as it was super well orga...</td>\n",
       "      <td>[fantastic, experience, as, it, was, super, we...</td>\n",
       "      <td>[fantastic, experience, super, well, organised...</td>\n",
       "    </tr>\n",
       "  </tbody>\n",
       "</table>\n",
       "</div>"
      ],
      "text/plain": [
       "                                                text  \\\n",
       "0  We came to Borobudur Temple accompanied by our...   \n",
       "1  Good place for Buddhist pilgrimage place. The ...   \n",
       "2  Fantastic experience as it was super well orga...   \n",
       "\n",
       "                                          text_clean  \\\n",
       "0  We came to Borobudur Temple accompanied by our...   \n",
       "1  Good place for Buddhist pilgrimage place The t...   \n",
       "2  Fantastic experience as it was super well orga...   \n",
       "\n",
       "                                             text_cf  \\\n",
       "0  we came to borobudur temple accompanied by our...   \n",
       "1  good place for buddhist pilgrimage place the t...   \n",
       "2  fantastic experience as it was super well orga...   \n",
       "\n",
       "                                          text_token  \\\n",
       "0  [we, came, to, borobudur, temple, accompanied,...   \n",
       "1  [good, place, for, buddhist, pilgrimage, place...   \n",
       "2  [fantastic, experience, as, it, was, super, we...   \n",
       "\n",
       "                                       text_stopword  \n",
       "0  [came, borobudur, temple, accompanied, driver,...  \n",
       "1  [good, place, buddhist, pilgrimage, place, tic...  \n",
       "2  [fantastic, experience, super, well, organised...  "
      ]
     },
     "execution_count": 14,
     "metadata": {},
     "output_type": "execute_result"
    }
   ],
   "source": [
    "df_temp['text_stopword'] = df_temp['text_token'].apply(remove_stopword)\n",
    "df_temp.head(3)"
   ]
  },
  {
   "cell_type": "code",
   "execution_count": 15,
   "metadata": {},
   "outputs": [],
   "source": [
    "# stemming\n",
    "\n",
    "# using NLTK stemmer\n",
    "stemmer = PorterStemmer()\n",
    "\n",
    "def stemming(text):\n",
    "    temp = [stemmer.stem(word) for word in text]\n",
    "    return temp"
   ]
  },
  {
   "cell_type": "code",
   "execution_count": 16,
   "metadata": {},
   "outputs": [
    {
     "data": {
      "text/html": [
       "<div>\n",
       "<style scoped>\n",
       "    .dataframe tbody tr th:only-of-type {\n",
       "        vertical-align: middle;\n",
       "    }\n",
       "\n",
       "    .dataframe tbody tr th {\n",
       "        vertical-align: top;\n",
       "    }\n",
       "\n",
       "    .dataframe thead th {\n",
       "        text-align: right;\n",
       "    }\n",
       "</style>\n",
       "<table border=\"1\" class=\"dataframe\">\n",
       "  <thead>\n",
       "    <tr style=\"text-align: right;\">\n",
       "      <th></th>\n",
       "      <th>text</th>\n",
       "      <th>text_clean</th>\n",
       "      <th>text_cf</th>\n",
       "      <th>text_token</th>\n",
       "      <th>text_stopword</th>\n",
       "      <th>text_stem</th>\n",
       "    </tr>\n",
       "  </thead>\n",
       "  <tbody>\n",
       "    <tr>\n",
       "      <th>0</th>\n",
       "      <td>We came to Borobudur Temple accompanied by our...</td>\n",
       "      <td>We came to Borobudur Temple accompanied by our...</td>\n",
       "      <td>we came to borobudur temple accompanied by our...</td>\n",
       "      <td>[we, came, to, borobudur, temple, accompanied,...</td>\n",
       "      <td>[came, borobudur, temple, accompanied, driver,...</td>\n",
       "      <td>[came, borobudur, templ, accompani, driver, yo...</td>\n",
       "    </tr>\n",
       "    <tr>\n",
       "      <th>1</th>\n",
       "      <td>Good place for Buddhist pilgrimage place. The ...</td>\n",
       "      <td>Good place for Buddhist pilgrimage place The t...</td>\n",
       "      <td>good place for buddhist pilgrimage place the t...</td>\n",
       "      <td>[good, place, for, buddhist, pilgrimage, place...</td>\n",
       "      <td>[good, place, buddhist, pilgrimage, place, tic...</td>\n",
       "      <td>[good, place, buddhist, pilgrimag, place, tick...</td>\n",
       "    </tr>\n",
       "    <tr>\n",
       "      <th>2</th>\n",
       "      <td>Fantastic experience as it was super well orga...</td>\n",
       "      <td>Fantastic experience as it was super well orga...</td>\n",
       "      <td>fantastic experience as it was super well orga...</td>\n",
       "      <td>[fantastic, experience, as, it, was, super, we...</td>\n",
       "      <td>[fantastic, experience, super, well, organised...</td>\n",
       "      <td>[fantast, experi, super, well, organis, organi...</td>\n",
       "    </tr>\n",
       "  </tbody>\n",
       "</table>\n",
       "</div>"
      ],
      "text/plain": [
       "                                                text  \\\n",
       "0  We came to Borobudur Temple accompanied by our...   \n",
       "1  Good place for Buddhist pilgrimage place. The ...   \n",
       "2  Fantastic experience as it was super well orga...   \n",
       "\n",
       "                                          text_clean  \\\n",
       "0  We came to Borobudur Temple accompanied by our...   \n",
       "1  Good place for Buddhist pilgrimage place The t...   \n",
       "2  Fantastic experience as it was super well orga...   \n",
       "\n",
       "                                             text_cf  \\\n",
       "0  we came to borobudur temple accompanied by our...   \n",
       "1  good place for buddhist pilgrimage place the t...   \n",
       "2  fantastic experience as it was super well orga...   \n",
       "\n",
       "                                          text_token  \\\n",
       "0  [we, came, to, borobudur, temple, accompanied,...   \n",
       "1  [good, place, for, buddhist, pilgrimage, place...   \n",
       "2  [fantastic, experience, as, it, was, super, we...   \n",
       "\n",
       "                                       text_stopword  \\\n",
       "0  [came, borobudur, temple, accompanied, driver,...   \n",
       "1  [good, place, buddhist, pilgrimage, place, tic...   \n",
       "2  [fantastic, experience, super, well, organised...   \n",
       "\n",
       "                                           text_stem  \n",
       "0  [came, borobudur, templ, accompani, driver, yo...  \n",
       "1  [good, place, buddhist, pilgrimag, place, tick...  \n",
       "2  [fantast, experi, super, well, organis, organi...  "
      ]
     },
     "execution_count": 16,
     "metadata": {},
     "output_type": "execute_result"
    }
   ],
   "source": [
    "df_temp['text_stem'] = df_temp['text_stopword'].apply(stemming)\n",
    "df_temp.head(3)"
   ]
  },
  {
   "cell_type": "code",
   "execution_count": 17,
   "metadata": {},
   "outputs": [
    {
     "name": "stdout",
     "output_type": "stream",
     "text": [
      "<class 'pandas.core.frame.DataFrame'>\n",
      "Int64Index: 4146 entries, 0 to 4163\n",
      "Data columns (total 6 columns):\n",
      " #   Column         Non-Null Count  Dtype \n",
      "---  ------         --------------  ----- \n",
      " 0   text           4146 non-null   object\n",
      " 1   text_clean     4146 non-null   object\n",
      " 2   text_cf        4146 non-null   object\n",
      " 3   text_token     4146 non-null   object\n",
      " 4   text_stopword  4146 non-null   object\n",
      " 5   text_stem      4146 non-null   object\n",
      "dtypes: object(6)\n",
      "memory usage: 355.8+ KB\n"
     ]
    }
   ],
   "source": [
    "df_temp.info()"
   ]
  },
  {
   "cell_type": "code",
   "execution_count": 18,
   "metadata": {},
   "outputs": [],
   "source": [
    "# save to csv\n",
    "# df_temp.to_csv('cleaned_review.csv', index=False)"
   ]
  },
  {
   "cell_type": "markdown",
   "metadata": {},
   "source": [
    "### Labelled"
   ]
  },
  {
   "cell_type": "code",
   "execution_count": 20,
   "metadata": {},
   "outputs": [
    {
     "name": "stdout",
     "output_type": "stream",
     "text": [
      "<class 'pandas.core.frame.DataFrame'>\n",
      "RangeIndex: 4146 entries, 0 to 4145\n",
      "Data columns (total 2 columns):\n",
      " #   Column  Non-Null Count  Dtype \n",
      "---  ------  --------------  ----- \n",
      " 0   text    4146 non-null   object\n",
      " 1   label   4146 non-null   int64 \n",
      "dtypes: int64(1), object(1)\n",
      "memory usage: 64.9+ KB\n"
     ]
    }
   ],
   "source": [
    "df_labelled_temp = pd.read_csv(\"dataset/final_sentiment.csv\")\n",
    "df_labelled_temp.info()"
   ]
  },
  {
   "cell_type": "code",
   "execution_count": 21,
   "metadata": {},
   "outputs": [
    {
     "data": {
      "text/plain": [
       " 1    3341\n",
       " 0     403\n",
       "-1     402\n",
       "Name: label, dtype: int64"
      ]
     },
     "execution_count": 21,
     "metadata": {},
     "output_type": "execute_result"
    }
   ],
   "source": [
    "df_labelled_temp['label'].value_counts()"
   ]
  },
  {
   "cell_type": "code",
   "execution_count": 22,
   "metadata": {},
   "outputs": [
    {
     "name": "stdout",
     "output_type": "stream",
     "text": [
      "<class 'pandas.core.frame.DataFrame'>\n",
      "Int64Index: 4146 entries, 0 to 4145\n",
      "Data columns (total 7 columns):\n",
      " #   Column         Non-Null Count  Dtype \n",
      "---  ------         --------------  ----- \n",
      " 0   text           4146 non-null   object\n",
      " 1   label          4146 non-null   int64 \n",
      " 2   text_clean     4146 non-null   object\n",
      " 3   text_cf        4146 non-null   object\n",
      " 4   text_token     4146 non-null   object\n",
      " 5   text_stopword  4146 non-null   object\n",
      " 6   text_stem      4146 non-null   object\n",
      "dtypes: int64(1), object(6)\n",
      "memory usage: 259.1+ KB\n"
     ]
    }
   ],
   "source": [
    "df_labelled = pd.merge(df_labelled_temp, df_temp, how='inner', on=['text'])\n",
    "df_labelled.info()"
   ]
  },
  {
   "cell_type": "markdown",
   "metadata": {},
   "source": [
    "### SPLIT"
   ]
  },
  {
   "cell_type": "code",
   "execution_count": 23,
   "metadata": {},
   "outputs": [],
   "source": [
    "from sklearn.model_selection import train_test_split"
   ]
  },
  {
   "cell_type": "code",
   "execution_count": 24,
   "metadata": {},
   "outputs": [],
   "source": [
    "X_train, X_test, y_train, y_test = train_test_split(df_labelled['text_stem'], df_labelled['label'], test_size=0.2, random_state=42)"
   ]
  },
  {
   "cell_type": "markdown",
   "metadata": {},
   "source": [
    "### TF-IDF"
   ]
  },
  {
   "cell_type": "code",
   "execution_count": 25,
   "metadata": {},
   "outputs": [],
   "source": [
    "import numpy as np\n",
    "import math\n",
    "from collections import defaultdict"
   ]
  },
  {
   "cell_type": "code",
   "execution_count": 26,
   "metadata": {},
   "outputs": [],
   "source": [
    "# Calculate Term Frequency (TF)\n",
    "def compute_tf(doc):\n",
    "    tf = defaultdict(int)\n",
    "    for word in doc:\n",
    "        tf[word] += 1\n",
    "    for word in tf:\n",
    "        tf[word] /= len(doc)\n",
    "    return tf\n",
    "\n",
    "# Calculate Document Frequency (DF)\n",
    "def compute_df(docs):\n",
    "    df = defaultdict(int)\n",
    "    for doc in docs:\n",
    "        unique_terms = set(doc)\n",
    "        for term in unique_terms:\n",
    "            df[term] += 1\n",
    "    return df\n",
    "\n",
    "# Calculate Inverse Document Frequency (IDF)\n",
    "def compute_idf(df, n_docs):\n",
    "    idf = {}\n",
    "    for term, count in df.items():\n",
    "        idf[term] = math.log(n_docs / count)\n",
    "    return idf\n",
    "\n",
    "# Calculate TF\n",
    "def compute_tfidf(tf, idf):\n",
    "    tfidf = {}\n",
    "    for term, tf_val in tf.items():\n",
    "        tfidf[term] = tf_val * idf.get(term, 0)\n",
    "    return tfidf\n",
    "\n",
    "# Compute TF-IDF for training data\n",
    "n_docs_train = len(X_train)\n",
    "tf_docs_train = [compute_tf(doc) for doc in X_train]\n",
    "df_train = compute_df(X_train)\n",
    "idf_train = compute_idf(df_train, n_docs_train)\n",
    "tfidf_docs_train = [compute_tfidf(tf, idf_train) for tf in tf_docs_train]\n",
    "\n",
    "# Build the TF-IDF matrix for training data\n",
    "vocabulary = list(idf_train.keys())\n",
    "tfidf_matrix_train = np.zeros((n_docs_train, len(vocabulary)))\n",
    "\n",
    "for i, tfidf in enumerate(tfidf_docs_train):\n",
    "    for term, val in tfidf.items():\n",
    "        if term in vocabulary:\n",
    "            term_index = vocabulary.index(term)\n",
    "            tfidf_matrix_train[i, term_index] = val\n",
    "\n",
    "# Compute TF-IDF for test data using the training vocabulary and IDF\n",
    "n_docs_test = len(X_test)\n",
    "tf_docs_test = [compute_tf(doc) for doc in X_test]\n",
    "tfidf_docs_test = [compute_tfidf(tf, idf_train) for tf in tf_docs_test]\n",
    "\n",
    "# Build the TF-IDF matrix for test data\n",
    "tfidf_matrix_test = np.zeros((n_docs_test, len(vocabulary)))\n",
    "\n",
    "for i, tfidf in enumerate(tfidf_docs_test):\n",
    "    for term, val in tfidf.items():\n",
    "        if term in vocabulary:\n",
    "            term_index = vocabulary.index(term)\n",
    "            tfidf_matrix_test[i, term_index] = val"
   ]
  },
  {
   "cell_type": "markdown",
   "metadata": {},
   "source": [
    "### SVM lib"
   ]
  },
  {
   "cell_type": "code",
   "execution_count": 27,
   "metadata": {},
   "outputs": [
    {
     "name": "stdout",
     "output_type": "stream",
     "text": [
      "Accuracy: 0.8024096385542169\n",
      "Classification Report:\n",
      "              precision    recall  f1-score   support\n",
      "\n",
      "          -1       1.00      0.07      0.12        92\n",
      "           0       0.00      0.00      0.00        78\n",
      "           1       0.80      1.00      0.89       660\n",
      "\n",
      "    accuracy                           0.80       830\n",
      "   macro avg       0.60      0.36      0.34       830\n",
      "weighted avg       0.75      0.80      0.72       830\n",
      "\n"
     ]
    },
    {
     "name": "stderr",
     "output_type": "stream",
     "text": [
      "c:\\Users\\nadhi\\AppData\\Local\\Programs\\Python\\Python310\\lib\\site-packages\\sklearn\\metrics\\_classification.py:1344: UndefinedMetricWarning: Precision and F-score are ill-defined and being set to 0.0 in labels with no predicted samples. Use `zero_division` parameter to control this behavior.\n",
      "  _warn_prf(average, modifier, msg_start, len(result))\n",
      "c:\\Users\\nadhi\\AppData\\Local\\Programs\\Python\\Python310\\lib\\site-packages\\sklearn\\metrics\\_classification.py:1344: UndefinedMetricWarning: Precision and F-score are ill-defined and being set to 0.0 in labels with no predicted samples. Use `zero_division` parameter to control this behavior.\n",
      "  _warn_prf(average, modifier, msg_start, len(result))\n",
      "c:\\Users\\nadhi\\AppData\\Local\\Programs\\Python\\Python310\\lib\\site-packages\\sklearn\\metrics\\_classification.py:1344: UndefinedMetricWarning: Precision and F-score are ill-defined and being set to 0.0 in labels with no predicted samples. Use `zero_division` parameter to control this behavior.\n",
      "  _warn_prf(average, modifier, msg_start, len(result))\n"
     ]
    }
   ],
   "source": [
    "from sklearn import svm\n",
    "from sklearn.metrics import accuracy_score, classification_report\n",
    "# Initialize and train the SVM\n",
    "clf = svm.SVC(kernel='rbf')\n",
    "clf.fit(tfidf_matrix_train, y_train)\n",
    "\n",
    "# Predict on the test set\n",
    "y_pred = clf.predict(tfidf_matrix_test)\n",
    "\n",
    "# Evaluate the model\n",
    "accuracy = accuracy_score(y_test, y_pred)\n",
    "report = classification_report(y_test, y_pred)\n",
    "\n",
    "print(f\"Accuracy: {accuracy}\")\n",
    "print(\"Classification Report:\")\n",
    "print(report)"
   ]
  },
  {
   "cell_type": "code",
   "execution_count": 28,
   "metadata": {},
   "outputs": [
    {
     "name": "stdout",
     "output_type": "stream",
     "text": [
      "F1 Score: 0.3373\n"
     ]
    }
   ],
   "source": [
    "from sklearn.metrics import f1_score\n",
    "\n",
    "# show the micro average f1 score per label\n",
    "f1 = f1_score(y_test, y_pred, average='macro')\n",
    "print(f\"F1 Score: {f1:.4f}\")\n"
   ]
  },
  {
   "cell_type": "markdown",
   "metadata": {},
   "source": [
    "### Support Vector Machine"
   ]
  },
  {
   "cell_type": "code",
   "execution_count": 29,
   "metadata": {},
   "outputs": [],
   "source": [
    "import time\n",
    "import numpy as np\n",
    "from sklearn import svm\n",
    "from sklearn.metrics import accuracy_score, f1_score, precision_score, recall_score, confusion_matrix\n",
    "import numpy as np\n",
    "from cvxopt import matrix, solvers"
   ]
  },
  {
   "cell_type": "code",
   "execution_count": 30,
   "metadata": {},
   "outputs": [],
   "source": [
    "# Function to calculate the gamma value for the RBF kernel\n",
    "def calculate_gamma(X, gamma):\n",
    "    if gamma == 'scale':\n",
    "        # Use the 'scale' heuristic for gamma\n",
    "        return 1.0 / (X.shape[1] * X.var())\n",
    "    elif gamma == 'auto':\n",
    "        # Use the 'auto' heuristic for gamma\n",
    "        return 1.0 / X.shape[1]\n",
    "    else:\n",
    "        # Return the provided gamma value directly if it's numeric\n",
    "        return gamma\n",
    "\n",
    "# Function to compute the RBF (Radial Basis Function) kernel\n",
    "def rbf_kernel(X1, X2, gamma):\n",
    "    gamma_value = calculate_gamma(X1, gamma)\n",
    "    X1_square = np.sum(X1 ** 2, axis=1).reshape(-1, 1)  # Compute squared norms of X1\n",
    "    X2_square = np.sum(X2 ** 2, axis=1).reshape(1, -1)  # Compute squared norms of X2\n",
    "    # Compute the RBF kernel matrix\n",
    "    return np.exp(-gamma_value * (X1_square + X2_square - 2 * np.dot(X1, X2.T)))"
   ]
  },
  {
   "cell_type": "code",
   "execution_count": 31,
   "metadata": {},
   "outputs": [],
   "source": [
    "class SVM:\n",
    "    def __init__(self, C=1.0, gamma='scale'):\n",
    "        self.C = C  # Regularization parameter\n",
    "        self.gamma = gamma  # Kernel coefficient\n",
    "        self.models = []  # List to hold models for each class\n",
    "\n",
    "    # Fit the SVM model using One-vs-Rest approach for multiclass classification\n",
    "    # X : 2D array (n_samples, n_features) - training data\n",
    "    # y : 1D array (n_samples,) - target values\n",
    "    def fit(self, X, y):\n",
    "        self.classes = np.unique(y)  # Get unique class labels\n",
    "        for cls in self.classes:\n",
    "            y_binary = np.where(y == cls, 1, -1)  # Convert to binary labels (One-vs-Rest)\n",
    "            model = self.train_svm(X, y_binary)  # Train SVM for current class\n",
    "            self.models.append((cls, model))  # Store the model\n",
    "\n",
    "    # Train an SVM for binary classification\n",
    "    # X : 2D array (n_samples, n_features) - training data\n",
    "    # y : 1D array (n_samples,) - target values\n",
    "    # - model: dict - Contains trained model parameters:\n",
    "    #       - 'alphas': 1D array-like, shape (n_samples,) - Lagrange multipliers\n",
    "    #       - 'support_vectors': 2D array-like, shape (n_support_vectors, n_features) - Support vectors\n",
    "    #       - 'support_vector_labels': 1D array-like, shape (n_support_vectors,) - Labels of support vectors\n",
    "    #       - 'b': float - Bias term\n",
    "    def train_svm(self, X, y):\n",
    "        n_samples, n_features = X.shape\n",
    "        K = rbf_kernel(X, X, self.gamma)  # Compute the kernel matrix\n",
    "\n",
    "        # Formulate the quadratic programming problem for SVM\n",
    "        P = matrix(np.outer(y, y) * K)  # Quadratic term\n",
    "        q = matrix(np.ones(n_samples) * -1)  # Linear term\n",
    "        G = matrix(np.vstack((np.diag(-np.ones(n_samples)), np.diag(np.ones(n_samples)))))  # Constraints\n",
    "        h = matrix(np.hstack((np.zeros(n_samples), np.ones(n_samples) * self.C)))  # Constraints bounds\n",
    "        A = matrix(y, (1, n_samples), 'd')  # Equality constraint matrix\n",
    "        b = matrix(0.0)  # Equality constraint value\n",
    "\n",
    "        solvers.options['show_progress'] = False  # Disable solver progress display\n",
    "        solution = solvers.qp(P, q, G, h, A, b)  # Solve the quadratic programming problem\n",
    "        alphas = np.ravel(solution['x'])  # Extract Lagrange multipliers\n",
    "\n",
    "        # Identify support vectors\n",
    "        support_vector_indices = alphas > 1e-5\n",
    "        support_vectors = X[support_vector_indices]\n",
    "        support_vector_labels = y[support_vector_indices]\n",
    "        support_vector_alphas = alphas[support_vector_indices]\n",
    "\n",
    "        # Compute the bias term (intercept)\n",
    "        b = np.mean(\n",
    "            support_vector_labels - \n",
    "            np.sum(support_vector_alphas * support_vector_labels * K[support_vector_indices][:, support_vector_indices], axis=1)\n",
    "        )\n",
    "\n",
    "        return {'alphas': support_vector_alphas, 'support_vectors': support_vectors, 'support_vector_labels': support_vector_labels, 'b': b}\n",
    "\n",
    "    # Predict class labels for input data\n",
    "    # X : 2D array (n_samples, n_features) - input data\n",
    "    # Returns: 1D array (n_samples,) - Predicted class labels\n",
    "    def predict(self, X):\n",
    "        predictions = np.zeros((X.shape[0], len(self.models)))  # Initialize prediction matrix\n",
    "        for idx, (cls, model) in enumerate(self.models):\n",
    "            K = rbf_kernel(X, model['support_vectors'], self.gamma)  # Compute kernel matrix for current model\n",
    "            # Compute decision function for each model\n",
    "            decision_function = np.sum(model['alphas'] * model['support_vector_labels'] * K, axis=1) + model['b']\n",
    "            predictions[:, idx] = decision_function  # Store predictions for the current class\n",
    "\n",
    "        # Return the class with the highest decision function value\n",
    "        return self.classes[np.argmax(predictions, axis=1)]\n"
   ]
  },
  {
   "cell_type": "code",
   "execution_count": 33,
   "metadata": {},
   "outputs": [],
   "source": [
    "classifier = SVM(C=1.0, gamma='scale')\n",
    "classifier.fit(tfidf_matrix_train, y_train)\n",
    "y_pred = classifier.predict(tfidf_matrix_test)"
   ]
  },
  {
   "cell_type": "code",
   "execution_count": 34,
   "metadata": {},
   "outputs": [],
   "source": [
    "def evaluate_model(y_test, y_pred):\n",
    "    accuracy = accuracy_score(y_test, y_pred)\n",
    "    f1 = f1_score(y_test, y_pred, average='weighted')\n",
    "    precision = precision_score(y_test, y_pred, average='weighted', zero_division=0)\n",
    "    recall = recall_score(y_test, y_pred, average='weighted', zero_division=0)\n",
    "    conf_matrix = confusion_matrix(y_test, y_pred)\n",
    "    return accuracy, f1, precision, recall, conf_matrix"
   ]
  },
  {
   "cell_type": "code",
   "execution_count": 35,
   "metadata": {},
   "outputs": [
    {
     "name": "stdout",
     "output_type": "stream",
     "text": [
      "Accuracy: 0.7975903614457831\n",
      "F1 Score: 0.7101189934756182\n",
      "Precision: 0.7446830801466736\n",
      "Recall: 0.7975903614457831\n"
     ]
    }
   ],
   "source": [
    "accuracy, f1, precision, recall, conf_matrix = evaluate_model(y_test, y_pred)\n",
    "print(f\"Accuracy: {accuracy}\")\n",
    "print(f\"F1 Score: {f1}\")\n",
    "print(f\"Precision: {precision}\")\n",
    "print(f\"Recall: {recall}\")"
   ]
  },
  {
   "cell_type": "code",
   "execution_count": 36,
   "metadata": {},
   "outputs": [
    {
     "name": "stdout",
     "output_type": "stream",
     "text": [
      "Time: 1.1804\n",
      "Accuracy: 0.7976\n",
      "F1 Score: 0.7101\n",
      "Precision: 0.7447\n",
      "Recall: 0.7976\n"
     ]
    }
   ],
   "source": [
    "start_time = time.time()\n",
    "\n",
    "# Create SVM classifier with custom kernel\n",
    "classifier = svm.SVC(kernel=lambda X, Y: rbf_kernel(X, Y, gamma='scale'), C=1.0)\n",
    "\n",
    "# Train the model\n",
    "classifier.fit(tfidf_matrix_train, y_train)\n",
    "\n",
    "# Make predictions\n",
    "y_pred = classifier.predict(tfidf_matrix_test)\n",
    "\n",
    "# time for the model running\n",
    "custom_time = time.time() - start_time\n",
    "\n",
    "# evaluate model\n",
    "accuracy, f1, precision, recall, conf_matrix = evaluate_model(y_test, y_pred)\n",
    "\n",
    "print(f\"Time: {custom_time:.4f}\")\n",
    "print(f\"Accuracy: {accuracy:.4f}\")\n",
    "print(f\"F1 Score: {f1:.4f}\")\n",
    "print(f\"Precision: {precision:.4f}\")\n",
    "print(f\"Recall: {recall:.4f}\")"
   ]
  },
  {
   "cell_type": "code",
   "execution_count": 37,
   "metadata": {},
   "outputs": [
    {
     "data": {
      "text/plain": [
       "array([0.04255319, 0.        , 0.88709677])"
      ]
     },
     "execution_count": 37,
     "metadata": {},
     "output_type": "execute_result"
    }
   ],
   "source": [
    "# count the f1 score for the negative label only\n",
    "f1_score(y_test, y_pred, average=None)\n",
    "# f1_score(y_test, y_pred, average='macro')"
   ]
  },
  {
   "cell_type": "code",
   "execution_count": 38,
   "metadata": {},
   "outputs": [
    {
     "name": "stdout",
     "output_type": "stream",
     "text": [
      "[[  2   0  90]\n",
      " [  0   0  78]\n",
      " [  0   0 660]]\n"
     ]
    }
   ],
   "source": [
    "cm = confusion_matrix(y_test, y_pred)\n",
    "\n",
    "print(cm)"
   ]
  },
  {
   "cell_type": "code",
   "execution_count": 39,
   "metadata": {},
   "outputs": [
    {
     "name": "stdout",
     "output_type": "stream",
     "text": [
      "Kernel: linear\n",
      "Accuracy: 0.8036\n",
      "F1 Score: 0.7235\n",
      "Precision: 0.7485\n",
      "Recall: 0.8036\n",
      "[[  7   0  85]\n",
      " [  0   0  78]\n",
      " [  0   0 660]]\n",
      "Kernel: poly\n",
      "Accuracy: 0.7940\n",
      "F1 Score: 0.7039\n",
      "Precision: 0.6321\n",
      "Recall: 0.7940\n",
      "[[  0   0  92]\n",
      " [  0   0  78]\n",
      " [  0   1 659]]\n",
      "Kernel: rbf\n",
      "Accuracy: 0.8024\n",
      "F1 Score: 0.7209\n",
      "Precision: 0.7478\n",
      "Recall: 0.8024\n",
      "[[  6   0  86]\n",
      " [  0   0  78]\n",
      " [  0   0 660]]\n",
      "Kernel: sigmoid\n",
      "Accuracy: 0.8193\n",
      "F1 Score: 0.7567\n",
      "Precision: 0.7560\n",
      "Recall: 0.8193\n",
      "[[ 22   0  70]\n",
      " [  1   0  77]\n",
      " [  0   2 658]]\n"
     ]
    }
   ],
   "source": [
    "# SVM library different kernel\n",
    "start_time = time.time()\n",
    "kernels = ['linear', 'poly', 'rbf', 'sigmoid']\n",
    "\n",
    "kernels_comparison = []\n",
    "for kernel in kernels:\n",
    "\n",
    "    time_start = time.time()\n",
    "\n",
    "    clf = svm.SVC(kernel=kernel, C=1.0, gamma='scale')\n",
    "    clf.fit(tfidf_matrix_train, y_train)\n",
    "    y_pred = clf.predict(tfidf_matrix_test)\n",
    "\n",
    "    time_end = time.time() - time_start\n",
    "\n",
    "    accuracy, f1, precision, recall, conf_matrix = evaluate_model(y_test, y_pred)\n",
    "    print(f\"Kernel: {kernel}\")\n",
    "    print(f\"Accuracy: {accuracy:.4f}\")\n",
    "    print(f\"F1 Score: {f1:.4f}\")\n",
    "    print(f\"Precision: {precision:.4f}\")\n",
    "    print(f\"Recall: {recall:.4f}\")\n",
    "    print(conf_matrix)\n",
    "\n",
    "    kernels_comparison.append({\n",
    "        'kernel': kernel,\n",
    "        'accuracy': accuracy,\n",
    "        'f1': f1,\n",
    "        'precision': precision,\n",
    "        'recall': recall,\n",
    "        'time': time_end,\n",
    "        'confusion_matrix': conf_matrix\n",
    "    })"
   ]
  },
  {
   "cell_type": "code",
   "execution_count": 40,
   "metadata": {},
   "outputs": [
    {
     "data": {
      "text/html": [
       "<div>\n",
       "<style scoped>\n",
       "    .dataframe tbody tr th:only-of-type {\n",
       "        vertical-align: middle;\n",
       "    }\n",
       "\n",
       "    .dataframe tbody tr th {\n",
       "        vertical-align: top;\n",
       "    }\n",
       "\n",
       "    .dataframe thead th {\n",
       "        text-align: right;\n",
       "    }\n",
       "</style>\n",
       "<table border=\"1\" class=\"dataframe\">\n",
       "  <thead>\n",
       "    <tr style=\"text-align: right;\">\n",
       "      <th></th>\n",
       "      <th>kernel</th>\n",
       "      <th>accuracy</th>\n",
       "      <th>f1</th>\n",
       "      <th>precision</th>\n",
       "      <th>recall</th>\n",
       "      <th>time</th>\n",
       "      <th>confusion_matrix</th>\n",
       "    </tr>\n",
       "  </thead>\n",
       "  <tbody>\n",
       "    <tr>\n",
       "      <th>0</th>\n",
       "      <td>linear</td>\n",
       "      <td>0.803614</td>\n",
       "      <td>0.723455</td>\n",
       "      <td>0.748534</td>\n",
       "      <td>0.803614</td>\n",
       "      <td>29.515241</td>\n",
       "      <td>[[7, 0, 85], [0, 0, 78], [0, 0, 660]]</td>\n",
       "    </tr>\n",
       "    <tr>\n",
       "      <th>1</th>\n",
       "      <td>poly</td>\n",
       "      <td>0.793976</td>\n",
       "      <td>0.703860</td>\n",
       "      <td>0.632116</td>\n",
       "      <td>0.793976</td>\n",
       "      <td>64.627163</td>\n",
       "      <td>[[0, 0, 92], [0, 0, 78], [0, 1, 659]]</td>\n",
       "    </tr>\n",
       "    <tr>\n",
       "      <th>2</th>\n",
       "      <td>rbf</td>\n",
       "      <td>0.802410</td>\n",
       "      <td>0.720876</td>\n",
       "      <td>0.747760</td>\n",
       "      <td>0.802410</td>\n",
       "      <td>50.049158</td>\n",
       "      <td>[[6, 0, 86], [0, 0, 78], [0, 0, 660]]</td>\n",
       "    </tr>\n",
       "    <tr>\n",
       "      <th>3</th>\n",
       "      <td>sigmoid</td>\n",
       "      <td>0.819277</td>\n",
       "      <td>0.756715</td>\n",
       "      <td>0.755998</td>\n",
       "      <td>0.819277</td>\n",
       "      <td>23.867402</td>\n",
       "      <td>[[22, 0, 70], [1, 0, 77], [0, 2, 658]]</td>\n",
       "    </tr>\n",
       "  </tbody>\n",
       "</table>\n",
       "</div>"
      ],
      "text/plain": [
       "    kernel  accuracy        f1  precision    recall       time  \\\n",
       "0   linear  0.803614  0.723455   0.748534  0.803614  29.515241   \n",
       "1     poly  0.793976  0.703860   0.632116  0.793976  64.627163   \n",
       "2      rbf  0.802410  0.720876   0.747760  0.802410  50.049158   \n",
       "3  sigmoid  0.819277  0.756715   0.755998  0.819277  23.867402   \n",
       "\n",
       "                         confusion_matrix  \n",
       "0   [[7, 0, 85], [0, 0, 78], [0, 0, 660]]  \n",
       "1   [[0, 0, 92], [0, 0, 78], [0, 1, 659]]  \n",
       "2   [[6, 0, 86], [0, 0, 78], [0, 0, 660]]  \n",
       "3  [[22, 0, 70], [1, 0, 77], [0, 2, 658]]  "
      ]
     },
     "execution_count": 40,
     "metadata": {},
     "output_type": "execute_result"
    }
   ],
   "source": [
    "# save to csv\n",
    "df_comparison = pd.DataFrame(kernels_comparison)\n",
    "df_comparison\n",
    "# df_comparison.to_csv('kernels_comparison.csv', index=False)"
   ]
  },
  {
   "cell_type": "code",
   "execution_count": 41,
   "metadata": {},
   "outputs": [
    {
     "name": "stdout",
     "output_type": "stream",
     "text": [
      "Training with C=0.01, gamma=scale\n",
      "Accuracy: 0.7952\n",
      "F1 Score: 0.7045\n",
      "Precision: 0.6323\n",
      "Recall: 0.7952\n",
      "Time: 1.1400\n",
      "Training with C=0.01, gamma=auto\n",
      "Accuracy: 0.7952\n",
      "F1 Score: 0.7045\n",
      "Precision: 0.6323\n",
      "Recall: 0.7952\n",
      "Time: 0.8815\n",
      "Training with C=0.1, gamma=scale\n",
      "Accuracy: 0.7952\n",
      "F1 Score: 0.7045\n",
      "Precision: 0.6323\n",
      "Recall: 0.7952\n",
      "Time: 1.1542\n",
      "Training with C=0.1, gamma=auto\n",
      "Accuracy: 0.7952\n",
      "F1 Score: 0.7045\n",
      "Precision: 0.6323\n",
      "Recall: 0.7952\n",
      "Time: 0.9216\n",
      "Training with C=1, gamma=scale\n",
      "Accuracy: 0.7976\n",
      "F1 Score: 0.7101\n",
      "Precision: 0.7447\n",
      "Recall: 0.7976\n",
      "Time: 1.1719\n",
      "Training with C=1, gamma=auto\n",
      "Accuracy: 0.7952\n",
      "F1 Score: 0.7045\n",
      "Precision: 0.6323\n",
      "Recall: 0.7952\n",
      "Time: 0.9503\n",
      "Training with C=10, gamma=scale\n",
      "Accuracy: 0.8096\n",
      "F1 Score: 0.7358\n",
      "Precision: 0.7524\n",
      "Recall: 0.8096\n",
      "Time: 1.1540\n",
      "Training with C=10, gamma=auto\n",
      "Accuracy: 0.7952\n",
      "F1 Score: 0.7045\n",
      "Precision: 0.6323\n",
      "Recall: 0.7952\n",
      "Time: 0.9162\n",
      "Training with C=100, gamma=scale\n",
      "Accuracy: 0.8096\n",
      "F1 Score: 0.7358\n",
      "Precision: 0.7524\n",
      "Recall: 0.8096\n",
      "Time: 1.2033\n",
      "Training with C=100, gamma=auto\n",
      "Accuracy: 0.7952\n",
      "F1 Score: 0.7045\n",
      "Precision: 0.6323\n",
      "Recall: 0.7952\n",
      "Time: 1.0227\n"
     ]
    }
   ],
   "source": [
    "# Define the parameter grid\n",
    "C_values = [0.01, 0.1, 1, 10, 100]\n",
    "gamma_values = ['scale', 'auto']\n",
    "\n",
    "results = []\n",
    "\n",
    "for C in C_values:\n",
    "    for gamma in gamma_values:\n",
    "        print(f\"Training with C={C}, gamma={gamma}\")\n",
    "        \n",
    "        start_time = time.time()\n",
    "        \n",
    "        # Create SVM classifier with custom kernel\n",
    "        clf = svm.SVC(kernel=lambda X, Y: rbf_kernel(X, Y, gamma), C=C)\n",
    "        \n",
    "        # Train the model\n",
    "        clf.fit(tfidf_matrix_train, y_train)\n",
    "        \n",
    "        # Make predictions\n",
    "        y_pred = clf.predict(tfidf_matrix_test)\n",
    "        \n",
    "        # time for the model running\n",
    "        custom_time = time.time() - start_time\n",
    "\n",
    "        # Evaluate the model\n",
    "        accuracy, f1, precision, recall, conf_matrix = evaluate_model(y_test, y_pred)\n",
    "\n",
    "        results.append({\n",
    "            'C': C,\n",
    "            'gamma': gamma,\n",
    "            'accuracy': accuracy,\n",
    "            'f1_score': f1,\n",
    "            'precision': precision,\n",
    "            'recall': recall,\n",
    "            'time': custom_time,\n",
    "            'confusion_matrix': conf_matrix\n",
    "        })\n",
    "\n",
    "        print(f\"Accuracy: {accuracy:.4f}\")\n",
    "        print(f\"F1 Score: {f1:.4f}\")\n",
    "        print(f\"Precision: {precision:.4f}\")\n",
    "        print(f\"Recall: {recall:.4f}\")\n",
    "        print(f\"Time: {custom_time:.4f}\")"
   ]
  },
  {
   "cell_type": "code",
   "execution_count": 42,
   "metadata": {},
   "outputs": [
    {
     "name": "stdout",
     "output_type": "stream",
     "text": [
      "C: 0.01, gamma: scale, Accuracy: 0.7952, F1 Score: 0.7045, Precision: 0.6323, Recall: 0.7952, Time: 1.1400\n",
      "C: 0.01, gamma: auto, Accuracy: 0.7952, F1 Score: 0.7045, Precision: 0.6323, Recall: 0.7952, Time: 0.8815\n",
      "C: 0.1, gamma: scale, Accuracy: 0.7952, F1 Score: 0.7045, Precision: 0.6323, Recall: 0.7952, Time: 1.1542\n",
      "C: 0.1, gamma: auto, Accuracy: 0.7952, F1 Score: 0.7045, Precision: 0.6323, Recall: 0.7952, Time: 0.9216\n",
      "C: 1, gamma: scale, Accuracy: 0.7976, F1 Score: 0.7101, Precision: 0.7447, Recall: 0.7976, Time: 1.1719\n",
      "C: 1, gamma: auto, Accuracy: 0.7952, F1 Score: 0.7045, Precision: 0.6323, Recall: 0.7952, Time: 0.9503\n",
      "C: 10, gamma: scale, Accuracy: 0.8096, F1 Score: 0.7358, Precision: 0.7524, Recall: 0.8096, Time: 1.1540\n",
      "C: 10, gamma: auto, Accuracy: 0.7952, F1 Score: 0.7045, Precision: 0.6323, Recall: 0.7952, Time: 0.9162\n",
      "C: 100, gamma: scale, Accuracy: 0.8096, F1 Score: 0.7358, Precision: 0.7524, Recall: 0.8096, Time: 1.2033\n",
      "C: 100, gamma: auto, Accuracy: 0.7952, F1 Score: 0.7045, Precision: 0.6323, Recall: 0.7952, Time: 1.0227\n"
     ]
    }
   ],
   "source": [
    "# Print all results\n",
    "for result in results:\n",
    "    print(f\"C: {result['C']}, gamma: {result['gamma']}, Accuracy: {result['accuracy']:.4f}, F1 Score: {result['f1_score']:.4f}, Precision: {result['precision']:.4f}, Recall: {result['recall']:.4f}, Time: {result['time']:.4f}\")"
   ]
  },
  {
   "cell_type": "code",
   "execution_count": 43,
   "metadata": {},
   "outputs": [
    {
     "data": {
      "text/plain": [
       "{'C': 10,\n",
       " 'gamma': 'auto',\n",
       " 'accuracy': 0.7951807228915663,\n",
       " 'f1_score': 0.7044554055146761,\n",
       " 'precision': 0.6323123820583539,\n",
       " 'recall': 0.7951807228915663,\n",
       " 'time': 0.9162280559539795,\n",
       " 'confusion_matrix': array([[  0,   0,  92],\n",
       "        [  0,   0,  78],\n",
       "        [  0,   0, 660]], dtype=int64)}"
      ]
     },
     "execution_count": 43,
     "metadata": {},
     "output_type": "execute_result"
    }
   ],
   "source": [
    "results[7]"
   ]
  },
  {
   "cell_type": "code",
   "execution_count": 44,
   "metadata": {},
   "outputs": [
    {
     "data": {
      "text/html": [
       "<div>\n",
       "<style scoped>\n",
       "    .dataframe tbody tr th:only-of-type {\n",
       "        vertical-align: middle;\n",
       "    }\n",
       "\n",
       "    .dataframe tbody tr th {\n",
       "        vertical-align: top;\n",
       "    }\n",
       "\n",
       "    .dataframe thead th {\n",
       "        text-align: right;\n",
       "    }\n",
       "</style>\n",
       "<table border=\"1\" class=\"dataframe\">\n",
       "  <thead>\n",
       "    <tr style=\"text-align: right;\">\n",
       "      <th></th>\n",
       "      <th>C</th>\n",
       "      <th>gamma</th>\n",
       "      <th>accuracy</th>\n",
       "      <th>f1_score</th>\n",
       "      <th>precision</th>\n",
       "      <th>recall</th>\n",
       "      <th>time</th>\n",
       "      <th>confusion_matrix</th>\n",
       "    </tr>\n",
       "  </thead>\n",
       "  <tbody>\n",
       "    <tr>\n",
       "      <th>0</th>\n",
       "      <td>0.01</td>\n",
       "      <td>scale</td>\n",
       "      <td>0.795181</td>\n",
       "      <td>0.704455</td>\n",
       "      <td>0.632312</td>\n",
       "      <td>0.795181</td>\n",
       "      <td>1.140023</td>\n",
       "      <td>[[0, 0, 92], [0, 0, 78], [0, 0, 660]]</td>\n",
       "    </tr>\n",
       "    <tr>\n",
       "      <th>1</th>\n",
       "      <td>0.01</td>\n",
       "      <td>auto</td>\n",
       "      <td>0.795181</td>\n",
       "      <td>0.704455</td>\n",
       "      <td>0.632312</td>\n",
       "      <td>0.795181</td>\n",
       "      <td>0.881516</td>\n",
       "      <td>[[0, 0, 92], [0, 0, 78], [0, 0, 660]]</td>\n",
       "    </tr>\n",
       "    <tr>\n",
       "      <th>2</th>\n",
       "      <td>0.10</td>\n",
       "      <td>scale</td>\n",
       "      <td>0.795181</td>\n",
       "      <td>0.704455</td>\n",
       "      <td>0.632312</td>\n",
       "      <td>0.795181</td>\n",
       "      <td>1.154236</td>\n",
       "      <td>[[0, 0, 92], [0, 0, 78], [0, 0, 660]]</td>\n",
       "    </tr>\n",
       "    <tr>\n",
       "      <th>3</th>\n",
       "      <td>0.10</td>\n",
       "      <td>auto</td>\n",
       "      <td>0.795181</td>\n",
       "      <td>0.704455</td>\n",
       "      <td>0.632312</td>\n",
       "      <td>0.795181</td>\n",
       "      <td>0.921607</td>\n",
       "      <td>[[0, 0, 92], [0, 0, 78], [0, 0, 660]]</td>\n",
       "    </tr>\n",
       "    <tr>\n",
       "      <th>4</th>\n",
       "      <td>1.00</td>\n",
       "      <td>scale</td>\n",
       "      <td>0.797590</td>\n",
       "      <td>0.710119</td>\n",
       "      <td>0.744683</td>\n",
       "      <td>0.797590</td>\n",
       "      <td>1.171909</td>\n",
       "      <td>[[2, 0, 90], [0, 0, 78], [0, 0, 660]]</td>\n",
       "    </tr>\n",
       "    <tr>\n",
       "      <th>5</th>\n",
       "      <td>1.00</td>\n",
       "      <td>auto</td>\n",
       "      <td>0.795181</td>\n",
       "      <td>0.704455</td>\n",
       "      <td>0.632312</td>\n",
       "      <td>0.795181</td>\n",
       "      <td>0.950321</td>\n",
       "      <td>[[0, 0, 92], [0, 0, 78], [0, 0, 660]]</td>\n",
       "    </tr>\n",
       "    <tr>\n",
       "      <th>6</th>\n",
       "      <td>10.00</td>\n",
       "      <td>scale</td>\n",
       "      <td>0.809639</td>\n",
       "      <td>0.735754</td>\n",
       "      <td>0.752432</td>\n",
       "      <td>0.809639</td>\n",
       "      <td>1.153955</td>\n",
       "      <td>[[12, 0, 80], [0, 0, 78], [0, 0, 660]]</td>\n",
       "    </tr>\n",
       "    <tr>\n",
       "      <th>7</th>\n",
       "      <td>10.00</td>\n",
       "      <td>auto</td>\n",
       "      <td>0.795181</td>\n",
       "      <td>0.704455</td>\n",
       "      <td>0.632312</td>\n",
       "      <td>0.795181</td>\n",
       "      <td>0.916228</td>\n",
       "      <td>[[0, 0, 92], [0, 0, 78], [0, 0, 660]]</td>\n",
       "    </tr>\n",
       "    <tr>\n",
       "      <th>8</th>\n",
       "      <td>100.00</td>\n",
       "      <td>scale</td>\n",
       "      <td>0.809639</td>\n",
       "      <td>0.735754</td>\n",
       "      <td>0.752432</td>\n",
       "      <td>0.809639</td>\n",
       "      <td>1.203256</td>\n",
       "      <td>[[12, 0, 80], [0, 0, 78], [0, 0, 660]]</td>\n",
       "    </tr>\n",
       "    <tr>\n",
       "      <th>9</th>\n",
       "      <td>100.00</td>\n",
       "      <td>auto</td>\n",
       "      <td>0.795181</td>\n",
       "      <td>0.704455</td>\n",
       "      <td>0.632312</td>\n",
       "      <td>0.795181</td>\n",
       "      <td>1.022688</td>\n",
       "      <td>[[0, 0, 92], [0, 0, 78], [0, 0, 660]]</td>\n",
       "    </tr>\n",
       "  </tbody>\n",
       "</table>\n",
       "</div>"
      ],
      "text/plain": [
       "        C  gamma  accuracy  f1_score  precision    recall      time  \\\n",
       "0    0.01  scale  0.795181  0.704455   0.632312  0.795181  1.140023   \n",
       "1    0.01   auto  0.795181  0.704455   0.632312  0.795181  0.881516   \n",
       "2    0.10  scale  0.795181  0.704455   0.632312  0.795181  1.154236   \n",
       "3    0.10   auto  0.795181  0.704455   0.632312  0.795181  0.921607   \n",
       "4    1.00  scale  0.797590  0.710119   0.744683  0.797590  1.171909   \n",
       "5    1.00   auto  0.795181  0.704455   0.632312  0.795181  0.950321   \n",
       "6   10.00  scale  0.809639  0.735754   0.752432  0.809639  1.153955   \n",
       "7   10.00   auto  0.795181  0.704455   0.632312  0.795181  0.916228   \n",
       "8  100.00  scale  0.809639  0.735754   0.752432  0.809639  1.203256   \n",
       "9  100.00   auto  0.795181  0.704455   0.632312  0.795181  1.022688   \n",
       "\n",
       "                         confusion_matrix  \n",
       "0   [[0, 0, 92], [0, 0, 78], [0, 0, 660]]  \n",
       "1   [[0, 0, 92], [0, 0, 78], [0, 0, 660]]  \n",
       "2   [[0, 0, 92], [0, 0, 78], [0, 0, 660]]  \n",
       "3   [[0, 0, 92], [0, 0, 78], [0, 0, 660]]  \n",
       "4   [[2, 0, 90], [0, 0, 78], [0, 0, 660]]  \n",
       "5   [[0, 0, 92], [0, 0, 78], [0, 0, 660]]  \n",
       "6  [[12, 0, 80], [0, 0, 78], [0, 0, 660]]  \n",
       "7   [[0, 0, 92], [0, 0, 78], [0, 0, 660]]  \n",
       "8  [[12, 0, 80], [0, 0, 78], [0, 0, 660]]  \n",
       "9   [[0, 0, 92], [0, 0, 78], [0, 0, 660]]  "
      ]
     },
     "execution_count": 44,
     "metadata": {},
     "output_type": "execute_result"
    }
   ],
   "source": [
    "# Save results to CSV\n",
    "results_df = pd.DataFrame(results)\n",
    "results_df\n",
    "# results_df.to_csv('output_svm_0907.csv', index=False)"
   ]
  }
 ],
 "metadata": {
  "kernelspec": {
   "display_name": "Python 3",
   "language": "python",
   "name": "python3"
  },
  "language_info": {
   "codemirror_mode": {
    "name": "ipython",
    "version": 3
   },
   "file_extension": ".py",
   "mimetype": "text/x-python",
   "name": "python",
   "nbconvert_exporter": "python",
   "pygments_lexer": "ipython3",
   "version": "3.10.7"
  }
 },
 "nbformat": 4,
 "nbformat_minor": 2
}
